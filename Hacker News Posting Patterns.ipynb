{
 "cells": [
  {
   "cell_type": "markdown",
   "metadata": {},
   "source": [
    "# \"Hacker News\" Posting Patterns\n",
    "---\n",
    "\n",
    "Well its Sunday afternoon and I don't feel like sleeping. Raining heavy outside and i just made some filter coffee. So.......\n",
    "\n",
    "Lets help our fellow entrepreneurs gain some insight to Hacker News posting patters :)\n",
    "\n",
    "---\n",
    "\n",
    "# Introduction\n",
    "\n",
    "*Hacker News is a site started by the startup incubator [Y Combinator](https://www.ycombinator.com), where user-submitted stories (known as \"posts\") are voted and commented upon, similar to reddit. Hacker News is extremely popular in technology and startup circles, and posts that make it to the top of Hacker News' listings can get hundreds of thousands of visitors as a result.*\n",
    "\n",
    "We can find the data set [here](https://www.kaggle.com/hacker-news/hacker-news-posts), but note that it has been reduced from almost 300,000 rows to approximately 20,000 rows by removing all submissions that did not receive any comments, and then randomly sampling from the remaining submissions. Below are descriptions of the columns:\n",
    "\n",
    "* `id`: The unique identifier from Hacker News for the post\n",
    "* `title`: The title of the post\n",
    "* `url`: The URL that the posts links to, if it the post has a URL\n",
    "* `num_points`: The number of points the post acquired, calculated as the total number of upvotes minus the total number of downvotes\n",
    "* `num_comments`: The number of comments that were made on the post\n",
    "* `author`: The username of the person who submitted the post\n",
    "* `created_at`: The date and time at which the post was submitted\n",
    "\n",
    "\n",
    "**We are interested in \"Ask HN\" & \"Show HN\" posts**\n",
    "\n",
    "**Ask HN**: Users submit Ask HN posts to ask the Hacker News community a specific question. Below are a couple examples:\n",
    "```\n",
    "Ask HN: How to improve my personal website?\n",
    "Ask HN: Am I the only one outraged by Twitter shutting down share counts?\n",
    "Ask HN: Aby recent changes to CSS that broke mobile?\n",
    "```\n",
    "**Show HN**: Users submit Show HN posts to show the Hacker News community a project, product, or just generally something interesting. Below are a couple of examples:\n",
    "```\n",
    "Show HN: Wio Link  ESP8266 Based Web of Things Hardware Development Platform'\n",
    "Show HN: Something pointless I made\n",
    "Show HN: Shanhu.io, a programming playground powered by e8vm\n",
    "```\n",
    "\n",
    "\n",
    "\n",
    "*We intend to help budding tech entrepreneurs get some traffic to thier websites through posts on hackernews. Data provided can help us answer 2 questions that would be of great help to our fellow entrepreneurs:*\n",
    "1. Do Ask HN or Show HN receive more comments on average?\n",
    "2. Do posts created at a certain time receive more comments on average?\n",
    "\n",
    "Let's begin and get some data dopamine.\n",
    "\n",
    "\n",
    "## Import modules"
   ]
  },
  {
   "cell_type": "code",
   "execution_count": 1,
   "metadata": {},
   "outputs": [],
   "source": [
    "from csv import reader\n",
    "import datetime as dt"
   ]
  },
  {
   "cell_type": "markdown",
   "metadata": {},
   "source": [
    "Make a function to get the index of columns of a dataset. The function takes a parameter dataset_header and prints out: \"Index_no : Column_name\""
   ]
  },
  {
   "cell_type": "code",
   "execution_count": 16,
   "metadata": {},
   "outputs": [
    {
     "name": "stdout",
     "output_type": "stream",
     "text": [
      "0  :  id\n",
      "1  :  title\n",
      "2  :  url\n",
      "3  :  num_points\n",
      "4  :  num_comments\n",
      "5  :  author\n",
      "6  :  created_at\n"
     ]
    }
   ],
   "source": [
    "def get_index(dataset_header):\n",
    "    index_no = 0\n",
    "    for column_name in dataset_header:\n",
    "        print(index_no, \" : \",  column_name)\n",
    "        index_no += 1\n",
    "        \n",
    "get_index(hn_header)"
   ]
  },
  {
   "cell_type": "markdown",
   "metadata": {},
   "source": [
    "# Opening the Data Set"
   ]
  },
  {
   "cell_type": "code",
   "execution_count": 3,
   "metadata": {
    "scrolled": false
   },
   "outputs": [
    {
     "name": "stdout",
     "output_type": "stream",
     "text": [
      "Number of rows in the raw dataset: 293120\n",
      "\n",
      "['id', 'title', 'url', 'num_points', 'num_comments', 'author', 'created_at']\n",
      "[['12579008', 'You have two days to comment if you want stem cells to be classified as your own', 'http://www.regulations.gov/document?D=FDA-2015-D-3719-0018', '1', '0', 'altstar', '9/26/2016 3:26'], ['12579005', 'SQLAR  the SQLite Archiver', 'https://www.sqlite.org/sqlar/doc/trunk/README.md', '1', '0', 'blacksqr', '9/26/2016 3:24']]\n"
     ]
    }
   ],
   "source": [
    "opened_file = open(\"/Users/deepmanyusuhag/Desktop/Courses/Dataquest/Step1/HN_posts_year_to_Sep_26_2016.csv\")\n",
    "read_file = reader(opened_file)\n",
    "hn = list(read_file)\n",
    "\n",
    "hn_header = hn[0]\n",
    "hn_full = hn[1:]\n",
    "\n",
    "print(\"Number of rows in the raw dataset: \" + str(len(hn)) + \"\\n\")\n",
    "\n",
    "print(hn_header)\n",
    "print(hn_full[0:2])"
   ]
  },
  {
   "cell_type": "markdown",
   "metadata": {},
   "source": [
    "293,120 is a lot of comments. But more data is not always good. So lets think.....\n",
    "\n",
    "Would we be intereseted in having any posts that have no comments, or say few comments and are downvoted more then upvoted. After all, comments and votes can indicate a lot. They suggest popularity of posts or even suggest engagement. \n",
    "\n",
    "Lets get posts that have more than 10 comments and have more than 10 points.\n",
    "# Filtering the Data Set"
   ]
  },
  {
   "cell_type": "code",
   "execution_count": 4,
   "metadata": {},
   "outputs": [
    {
     "name": "stdout",
     "output_type": "stream",
     "text": [
      "Number of rows in the filtered dataset: 25153\n",
      "\n"
     ]
    }
   ],
   "source": [
    "hn = []\n",
    "\n",
    "for row in hn_full:\n",
    "    if int(row[3]) > 10 and int(row[4]) > 10:\n",
    "        hn.append(row)\n",
    "        \n",
    "print(\"Number of rows in the filtered dataset: \" + str(len(hn)) + \"\\n\")"
   ]
  },
  {
   "cell_type": "markdown",
   "metadata": {},
   "source": [
    "We're only concerned with post titles beginning with \"Ask HN\" or \"Show HN\", so we'll create new lists of lists containing just the data for those titles.\n",
    "# Creating Seperate list for Ask, Show and Other posts"
   ]
  },
  {
   "cell_type": "code",
   "execution_count": 5,
   "metadata": {},
   "outputs": [
    {
     "name": "stdout",
     "output_type": "stream",
     "text": [
      "Length of ask_post :  1091\n",
      "Length of show_post :  945\n",
      "Length of other_post :  23117\n"
     ]
    }
   ],
   "source": [
    "ask_post = []\n",
    "show_post = []\n",
    "other_post = []\n",
    "\n",
    "for row in hn:\n",
    "    if row[1].lower().startswith(\"ask hn\"):\n",
    "        ask_post.append(row)\n",
    "    elif row[1].lower().startswith(\"show hn\"):\n",
    "        show_post.append(row)\n",
    "    else:\n",
    "        other_post.append(row)\n",
    "        \n",
    "print(\"Length of ask_post : \", len(ask_post))\n",
    "print(\"Length of show_post : \", len(show_post))\n",
    "print(\"Length of other_post : \", len(other_post))"
   ]
  },
  {
   "cell_type": "markdown",
   "metadata": {},
   "source": [
    "Below are the first five rows in the ask_posts list of lists:"
   ]
  },
  {
   "cell_type": "code",
   "execution_count": 6,
   "metadata": {
    "scrolled": false
   },
   "outputs": [
    {
     "name": "stdout",
     "output_type": "stream",
     "text": [
      "[['12576899', 'Ask HN: What is that one deciding factor that makes a website successful?', '', '22', '22', 'ziggystardust', '9/25/2016 19:22'], ['12575743', 'Ask HN: How to sell and idea?', '', '12', '13', 'hacknat', '9/25/2016 15:35'], ['12574510', 'Ask HN: What are the best practises for using SSH keys?', '', '276', '97', 'TheCustardKing', '9/25/2016 9:04'], ['12571287', \"Ask HN: What's the best way to learn about the blockchain?\", '', '247', '66', 'm52go', '9/24/2016 15:29'], ['12567645', 'Ask HN: What do you wish someone would build?', '', '171', '477', 'prmph', '9/23/2016 20:18'], ['12566358', 'Ask HN: What do you guys use to help organize daily tasks and things to do?', '', '11', '25', 'gallonofmilk', '9/23/2016 17:28']]\n"
     ]
    }
   ],
   "source": [
    "print(ask_post[:6])"
   ]
  },
  {
   "cell_type": "markdown",
   "metadata": {},
   "source": [
    "Below are the first five rows in the ask_posts list of lists:"
   ]
  },
  {
   "cell_type": "code",
   "execution_count": 7,
   "metadata": {},
   "outputs": [
    {
     "name": "stdout",
     "output_type": "stream",
     "text": [
      "[['12572412', 'Show HN: G9.js  Automatically Interactive Differentiable Graphics', 'http://omrelli.ug/g9/gallery/', '215', '26', 'bijection', '9/24/2016 20:07'], ['12571200', 'Show HN: InstaPart  Build circuit boards faster with instant parts', 'http://www.snapeda.com/instapart', '301', '102', 'natashabaker', '9/24/2016 15:06'], ['12564410', 'Show HN: How many days until?', 'https://days.to/', '152', '62', 'uptown', '9/23/2016 13:29'], ['12563692', 'Show HN: CuriositY', 'https://shark.fish/curiosity/', '16', '12', 'sharkdp', '9/23/2016 11:13'], ['12553444', 'Show HN: An Open Source Tool to Combat Clickbait Links', 'http://links.spince.com/demo.html', '81', '28', 'goldMIT', '9/22/2016 0:38'], ['12552623', \"Show HN: Lemonade  the world's first P2P insurance company\", 'https://lemonade.com', '184', '167', 'gilsadis', '9/21/2016 21:55']]\n"
     ]
    }
   ],
   "source": [
    "print(show_post[:6])"
   ]
  },
  {
   "cell_type": "markdown",
   "metadata": {},
   "source": [
    "# Finding the Average Number of Comments and Points"
   ]
  },
  {
   "cell_type": "code",
   "execution_count": 8,
   "metadata": {
    "scrolled": true
   },
   "outputs": [
    {
     "name": "stdout",
     "output_type": "stream",
     "text": [
      "Ask Posts:\n",
      "\n",
      "Average comments: 64.67 \n",
      "Average points 68.98\n"
     ]
    }
   ],
   "source": [
    "### average posts and comments for ask_posts ###\n",
    "total_ask_points = 0\n",
    "total_ask_comments = 0\n",
    "\n",
    "for row in ask_post:\n",
    "    points = int(row[3])\n",
    "    comments = int(row[4])\n",
    "    total_ask_comments += comments\n",
    "    total_ask_points += points\n",
    "    avg_ask_comments = total_ask_comments / len(ask_post)\n",
    "    avg_ask_points = total_ask_points / len(ask_post)\n",
    "\n",
    "\n",
    "print(\"Ask Posts:\\n\\nAverage comments:\", \"%.2f\"%avg_ask_comments,\"\\nAverage points\", \"%.2f\"%avg_ask_points)\n"
   ]
  },
  {
   "cell_type": "code",
   "execution_count": 9,
   "metadata": {},
   "outputs": [
    {
     "name": "stdout",
     "output_type": "stream",
     "text": [
      "Show Posts:\n",
      "\n",
      "Average comments: 40.51 \n",
      "Average points 107.36\n"
     ]
    }
   ],
   "source": [
    "### average posts and comments for show_posts ###\n",
    "total_show_points = 0\n",
    "total_show_comments = 0\n",
    "\n",
    "for row in show_post:\n",
    "    points = int(row[3])\n",
    "    comments = int(row[4])\n",
    "    total_show_comments += comments\n",
    "    total_show_points += points\n",
    "    avg_show_comments = total_show_comments / len(show_post)\n",
    "    avg_show_points = total_show_points / len(show_post)\n",
    "    \n",
    "print(\"Show Posts:\\n\\nAverage comments:\", \"%.2f\"%avg_show_comments,\"\\nAverage points\", \"%.2f\"%avg_show_points)"
   ]
  },
  {
   "cell_type": "markdown",
   "metadata": {},
   "source": [
    "So here is the results after checking the averages. Average comment count for Ask posts is 64.67 and Average comment count for Show posts: 40.51. But interestingly Average points for Ask posts is 68.98 and Average points for Show posts: 107.36. Comments are better for Ask posts while points are better for the show posts. \n",
    "\n",
    "On investigating Hacker News, it looks like getting a number of comments are straight forward while point system follows an algorithm. Since we are looking at getting quick way to get recognition, lets focus on the average of comments rather than the points.\n",
    "\n",
    "Now let's determine if ask posts created at a certain time are more likely to attract comments. We'll use the following steps to perform this analysis:\n",
    "\n",
    "1. Calculate the amount of ask posts created in each hour of the day, along with the number of comments received.\n",
    "2. Calculate the average number of comments ask posts receive by hour created.\n",
    "\n",
    "# Finding the best time to post for more comments\n"
   ]
  },
  {
   "cell_type": "code",
   "execution_count": 10,
   "metadata": {},
   "outputs": [
    {
     "name": "stdout",
     "output_type": "stream",
     "text": [
      "Here is the Number of posts in each hour \n",
      " \n",
      " {'19': 62, '15': 103, '09': 18, '20': 52, '17': 58, '14': 66, '11': 33, '23': 39, '13': 64, '02': 37, '21': 51, '16': 62, '07': 26, '06': 31, '00': 29, '03': 38, '04': 25, '22': 50, '10': 44, '12': 55, '18': 69, '08': 29, '01': 32, '05': 18}\n",
      "\n",
      " Here is the Number of comments in each hour \n",
      " \n",
      " {'19': 2534, '15': 17136, '09': 928, '20': 3006, '17': 3992, '14': 3700, '11': 1895, '23': 1282, '13': 6040, '02': 2115, '21': 3010, '16': 3020, '07': 1058, '06': 1021, '00': 1432, '03': 1437, '04': 1629, '22': 2368, '10': 2248, '12': 3288, '18': 3248, '08': 1683, '01': 1266, '05': 1223}\n"
     ]
    }
   ],
   "source": [
    "### making result_list that has hour_posted and no_of_comments for each post ###\n",
    "\n",
    "result_list = [] \n",
    "\n",
    "for row in ask_post:\n",
    "    temp_list = []\n",
    "    no_of_comments = int(row[4])\n",
    "    \n",
    "    date_str = row[6]\n",
    "    date_dt = dt.datetime.strptime(date_str, \"%m/%d/%Y %H:%M\") #'9/24/2016 20:07'\n",
    "    hour_posted = date_dt.strftime(\"%H\")\n",
    "    \n",
    "    temp_list.append(hour_posted)\n",
    "    temp_list.append(no_of_comments)\n",
    "    result_list.append(temp_list)\n",
    "    # print(result_list) # for checking results on -> for row in ask_post[:5]:\n",
    "\n",
    "    \n",
    "### counts_by_hour: dict has how many ask posts are created for each hour ###\n",
    "### comments_by_hour: dict has how many comments are there for each hour ###\n",
    "\n",
    "counts_by_hour = {}\n",
    "comments_by_hour = {}\n",
    "\n",
    "for row in result_list:\n",
    "    if row[0] not in counts_by_hour:\n",
    "        counts_by_hour[row[0]] = 1\n",
    "    else:\n",
    "        counts_by_hour[row[0]] += 1\n",
    "        \n",
    "    if row[0] not in comments_by_hour:\n",
    "        comments_by_hour[row[0]] = row[1]\n",
    "    else:\n",
    "        comments_by_hour[row[0]] += row[1]\n",
    "\n",
    "print(\"Here is the Number of posts in each hour \\n \\n\", counts_by_hour)\n",
    "print(\"\\n Here is the Number of comments in each hour \\n \\n\", comments_by_hour)"
   ]
  },
  {
   "cell_type": "markdown",
   "metadata": {},
   "source": [
    "We have two dictionaries with number of comments and number of posts against each hour, We can now find the average number of comments posted in each hours.\n",
    "\n",
    "# Finding the Average Comments per post in Each Hour\n",
    "We create a list to get the hour and average number of post in each hour. For the ease of sorting we will keep the first column as the average number of posts per hour."
   ]
  },
  {
   "cell_type": "code",
   "execution_count": 11,
   "metadata": {},
   "outputs": [
    {
     "name": "stdout",
     "output_type": "stream",
     "text": [
      "[[40.87096774193548, '19'], [166.36893203883494, '15'], [51.55555555555556, '09'], [57.80769230769231, '20'], [68.82758620689656, '17'], [56.06060606060606, '14'], [57.42424242424242, '11'], [32.87179487179487, '23'], [94.375, '13'], [57.16216216216216, '02'], [59.01960784313726, '21'], [48.70967741935484, '16'], [40.69230769230769, '07'], [32.935483870967744, '06'], [49.37931034482759, '00'], [37.81578947368421, '03'], [65.16, '04'], [47.36, '22'], [51.09090909090909, '10'], [59.78181818181818, '12'], [47.072463768115945, '18'], [58.03448275862069, '08'], [39.5625, '01'], [67.94444444444444, '05']]\n"
     ]
    }
   ],
   "source": [
    "avg_by_hour = []\n",
    "\n",
    "for k in counts_by_hour:\n",
    "    avg_by_hour.append([comments_by_hour[k] / counts_by_hour[k], k])\n",
    "print(avg_by_hour)"
   ]
  },
  {
   "cell_type": "markdown",
   "metadata": {},
   "source": [
    "# Sorting the Average comments per post per hour\n",
    "Now that we have a list of average comments per post per each hour, we can sort it to see at what hour most number of comments were made per post."
   ]
  },
  {
   "cell_type": "code",
   "execution_count": 14,
   "metadata": {},
   "outputs": [
    {
     "name": "stdout",
     "output_type": "stream",
     "text": [
      "Below are the sorted averages of comments per post by each hour: \n",
      "\n",
      "\n",
      "[[166.36893203883494, '15'], [94.375, '13'], [68.82758620689656, '17'], [67.94444444444444, '05'], [65.16, '04'], [59.78181818181818, '12'], [59.01960784313726, '21'], [58.03448275862069, '08'], [57.80769230769231, '20'], [57.42424242424242, '11'], [57.16216216216216, '02'], [56.06060606060606, '14'], [51.55555555555556, '09'], [51.09090909090909, '10'], [49.37931034482759, '00'], [48.70967741935484, '16'], [47.36, '22'], [47.072463768115945, '18'], [40.87096774193548, '19'], [40.69230769230769, '07'], [39.5625, '01'], [37.81578947368421, '03'], [32.935483870967744, '06'], [32.87179487179487, '23']]\n"
     ]
    }
   ],
   "source": [
    "sorted_avg = sorted(avg_by_hour, reverse = True)\n",
    "print(\"Below are the sorted averages of comments per post by each hour: \\n\\n\")\n",
    "print(sorted_avg)"
   ]
  },
  {
   "cell_type": "code",
   "execution_count": 15,
   "metadata": {
    "scrolled": true
   },
   "outputs": [
    {
     "name": "stdout",
     "output_type": "stream",
     "text": [
      " Posting at 03 PM, gives 166.37 comments on average\n",
      " Posting at 01 PM, gives 94.38 comments on average\n",
      " Posting at 05 PM, gives 68.83 comments on average\n",
      "\n",
      "\n",
      "The best time to post to get good traction is 03 PM EST\n"
     ]
    }
   ],
   "source": [
    "for row in sorted_avg[:3]:                      \n",
    "    \n",
    "    time = dt.datetime.strptime(row[1],\"%H\").strftime(\"%I %p\")     \n",
    "    avg = row[0]    \n",
    "    print(\" Posting at {this_time}, gives {this_avg:,.2f} comments on average\"\n",
    "          .format(this_time=time,this_avg=avg))\n",
    "\n",
    "print(\"\\n\\nThe best time to post to get good traction is {} EST\".format(\n",
    "    dt.datetime.strptime(sorted_avg[0][1],\"%H\").strftime(\"%I %p\")))"
   ]
  },
  {
   "cell_type": "markdown",
   "metadata": {},
   "source": [
    "# Conclusion \n",
    "\n",
    "\n",
    "\n",
    "\n",
    "\n",
    "\n",
    "**My coffee finished an hour back. Its awesome weather in outside and the rain has also stopped. Time to go outdoors :)**\n",
    "\n",
    "\n",
    "But wait ................\n",
    "\n",
    "We have something to tell our fellow entrepreneurs about can they do to get good traction for thier posts.\n",
    "\n",
    "\n",
    "\n",
    "## So in short,  if you want to become popular on Hacker News, you need to find posts that you can submit on Ask HN Category and post them at 3PM EST and cross your fingers\n"
   ]
  },
  {
   "cell_type": "code",
   "execution_count": null,
   "metadata": {},
   "outputs": [],
   "source": []
  }
 ],
 "metadata": {
  "kernelspec": {
   "display_name": "Python 3",
   "language": "python",
   "name": "python3"
  },
  "language_info": {
   "codemirror_mode": {
    "name": "ipython",
    "version": 3
   },
   "file_extension": ".py",
   "mimetype": "text/x-python",
   "name": "python",
   "nbconvert_exporter": "python",
   "pygments_lexer": "ipython3",
   "version": "3.7.6"
  }
 },
 "nbformat": 4,
 "nbformat_minor": 4
}
